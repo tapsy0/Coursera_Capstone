{
 "cells": [
  {
   "cell_type": "markdown",
   "metadata": {},
   "source": [
    "# The Battle of Neighbourhoods\n",
    "\n",
    "## Introduction:\n",
    "The purpose of this Project is to help people in exploring better facilities around their neighborhood. It will help people making smart and efficient decisions on selecting great neighbourhoods out of numbers of other neighborhoods in Scarborough, Torronto.\n",
    "\n",
    "Lots of people are migrating to various states of Canada and had to do lots of research for good housing prices and reputated schools for their children. This project is for those people who are looking to get help with this highly important questions.\n",
    "\n",
    "This Project aims to create an analysis of features for  people migrating to Scarborough to search the best neighbourhood as a comparative analysis between neighborhoods. The features include median housing price and better schools according to ratings, crime rates of the particular area, road connectivity, weather conditions, good management for emergency, water resources both fresh and wasted water and excrement conveyed in sewers and recreational facilities.\n",
    "\n",
    "It will help people to get awareness of the area and neighborhood before moving to a new city, state, country or place for their work or to start a new fresh life.\n",
    "\n",
    "## Problem which got solved:\n",
    "The major purpose of this project is to suggest a better neighbourhood in a new city for the persons who are moving there. Connectivity to the airport, bus stand, city center, markets and other daily needs things nearby are important parameters for this task.\n",
    "\n",
    "## Information about the Location:\n",
    "Scarborough is a popular destination for new immigrants in Canada to reside. As a result it is one of the most diverse and multicultural areas in the Greater Toronto Area being the home to various religious groups and places of worship. Although immigration has become a hot topic over the past few years with more governments seeking more restrictions on immigrants and refugees, the general trend of immigration into Canada has been one of on the rise.\n",
    "\n",
    "## Foursquare API:\n",
    "This project will use an Foursquare API. It will be used to gather data as it has a database of millions of places, especially their places API which provides the ability to perform location search, location sharing and details about a business.\n",
    "\n",
    "## Work Flow:\n",
    "Using credentials of Foursquare API features of near-by places of the neighborhoods will be mined. Due to http request limitations the number of places per neighborhood parameter would reasonably be set to 100 and the radius parameter would be set to 500.\n",
    "\n",
    "## Clustering Approach:\n",
    "To compare the similarities of two cities we decided to explore neighborhoods, segment them and group them into clusters to find similar neighborhoods in a big city like New York and Toronto. To be able to do that we need to cluster data which is a form of unsupervised learning. We used the k-means clustering algorithm for this approach.\n",
    "\n",
    "## Libraries which are Used to develope the Project:\n",
    "Pandas: For creating and manipulating dataframes.\n",
    "\n",
    "Folium: Python visualization library will be used to visualize the neighbourhoods cluster distribution of using interactive leaflet map.\n",
    "\n",
    "Scikit Learn: For importing k-means clustering.\n",
    "\n",
    "JSON: Library to handle JSON files.\n",
    "\n",
    "XML: To separate data from presentation and XML stores data in plain text format.\n",
    "\n",
    "Geocoder: To retrieve Location Data.\n",
    "\n",
    "Beautiful Soup and Requests: To scrap and library to handle http requests.\n",
    "\n",
    "Matplotlib: Python Plotting Module."
   ]
  },
  {
   "cell_type": "code",
   "execution_count": null,
   "metadata": {},
   "outputs": [],
   "source": []
  }
 ],
 "metadata": {
  "kernelspec": {
   "display_name": "Python 3",
   "language": "python",
   "name": "python3"
  },
  "language_info": {
   "codemirror_mode": {
    "name": "ipython",
    "version": 3
   },
   "file_extension": ".py",
   "mimetype": "text/x-python",
   "name": "python",
   "nbconvert_exporter": "python",
   "pygments_lexer": "ipython3",
   "version": "3.8.3"
  }
 },
 "nbformat": 4,
 "nbformat_minor": 4
}
